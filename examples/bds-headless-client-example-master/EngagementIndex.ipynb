{
 "cells": [
  {
   "cell_type": "code",
   "execution_count": 1,
   "metadata": {},
   "outputs": [],
   "source": [
    "import pandas as pd\n",
    "import numpy as np \n",
    "from datetime import datetime\n",
    "import argparse\n",
    "import csv\n",
    "import os\n",
    "import time \n",
    "import sqlalchemy\n",
    "import urllib\n",
    "import json\n",
    "import seaborn as sns\n",
    "import matplotlib.pyplot as plt\n",
    "%matplotlib inline"
   ]
  },
  {
   "cell_type": "code",
   "execution_count": 2,
   "metadata": {},
   "outputs": [],
   "source": [
    "# Create a pyodbc connection\n",
    "CONFIG_LOCATION = 'config-sample.json'\n",
    "\n",
    "def get_config():\n",
    "    with open(CONFIG_LOCATION, 'r') as f:\n",
    "        return json.load(f)\n",
    "    \n",
    "def build_sql_engine():\n",
    "    config = get_config()\n",
    "    params = urllib.parse.quote_plus(\"DRIVER={\" + config['dbdriver'] + \"};\"\n",
    "                                 \"SERVER=\" + config['dbserver'] +\n",
    "                                 \";DATABASE=\" + config['dbdatabase'] +\n",
    "                                 \";Trusted_Connection=yes;\")\n",
    "    engine = sqlalchemy.create_engine(\"mssql+pyodbc:///?odbc_connect={}\".format(params))\n",
    "    return engine "
   ]
  },
  {
   "cell_type": "code",
   "execution_count": 3,
   "metadata": {},
   "outputs": [],
   "source": [
    "table_name = \"tmp_data_combined_3\"\n",
    "sql_engine = build_sql_engine()\n",
    "table_df = pd.read_sql_table(\n",
    "    table_name,\n",
    "    con=sql_engine\n",
    ")"
   ]
  },
  {
   "cell_type": "code",
   "execution_count": 4,
   "metadata": {},
   "outputs": [
    {
     "data": {
      "text/html": [
       "<div>\n",
       "<style scoped>\n",
       "    .dataframe tbody tr th:only-of-type {\n",
       "        vertical-align: middle;\n",
       "    }\n",
       "\n",
       "    .dataframe tbody tr th {\n",
       "        vertical-align: top;\n",
       "    }\n",
       "\n",
       "    .dataframe thead th {\n",
       "        text-align: right;\n",
       "    }\n",
       "</style>\n",
       "<table border=\"1\" class=\"dataframe\">\n",
       "  <thead>\n",
       "    <tr style=\"text-align: right;\">\n",
       "      <th></th>\n",
       "      <th>NumAssignmentSubmissions</th>\n",
       "      <th>NumQuizDone</th>\n",
       "      <th>NumPosts</th>\n",
       "      <th>NumTopics</th>\n",
       "      <th>NumChatSessions</th>\n",
       "    </tr>\n",
       "  </thead>\n",
       "  <tbody>\n",
       "    <tr>\n",
       "      <th>count</th>\n",
       "      <td>306.000000</td>\n",
       "      <td>306.000000</td>\n",
       "      <td>306.000000</td>\n",
       "      <td>306.000000</td>\n",
       "      <td>306.0</td>\n",
       "    </tr>\n",
       "    <tr>\n",
       "      <th>mean</th>\n",
       "      <td>6.078431</td>\n",
       "      <td>2.718954</td>\n",
       "      <td>9.303922</td>\n",
       "      <td>3.617647</td>\n",
       "      <td>0.0</td>\n",
       "    </tr>\n",
       "    <tr>\n",
       "      <th>std</th>\n",
       "      <td>5.866861</td>\n",
       "      <td>4.315367</td>\n",
       "      <td>8.993027</td>\n",
       "      <td>3.095351</td>\n",
       "      <td>0.0</td>\n",
       "    </tr>\n",
       "    <tr>\n",
       "      <th>min</th>\n",
       "      <td>0.000000</td>\n",
       "      <td>0.000000</td>\n",
       "      <td>0.000000</td>\n",
       "      <td>0.000000</td>\n",
       "      <td>0.0</td>\n",
       "    </tr>\n",
       "    <tr>\n",
       "      <th>25%</th>\n",
       "      <td>1.000000</td>\n",
       "      <td>0.000000</td>\n",
       "      <td>2.000000</td>\n",
       "      <td>1.000000</td>\n",
       "      <td>0.0</td>\n",
       "    </tr>\n",
       "    <tr>\n",
       "      <th>50%</th>\n",
       "      <td>5.000000</td>\n",
       "      <td>1.000000</td>\n",
       "      <td>7.000000</td>\n",
       "      <td>3.000000</td>\n",
       "      <td>0.0</td>\n",
       "    </tr>\n",
       "    <tr>\n",
       "      <th>75%</th>\n",
       "      <td>9.000000</td>\n",
       "      <td>4.000000</td>\n",
       "      <td>14.000000</td>\n",
       "      <td>5.000000</td>\n",
       "      <td>0.0</td>\n",
       "    </tr>\n",
       "    <tr>\n",
       "      <th>max</th>\n",
       "      <td>35.000000</td>\n",
       "      <td>30.000000</td>\n",
       "      <td>50.000000</td>\n",
       "      <td>14.000000</td>\n",
       "      <td>0.0</td>\n",
       "    </tr>\n",
       "  </tbody>\n",
       "</table>\n",
       "</div>"
      ],
      "text/plain": [
       "       NumAssignmentSubmissions  NumQuizDone    NumPosts   NumTopics  \\\n",
       "count                306.000000   306.000000  306.000000  306.000000   \n",
       "mean                   6.078431     2.718954    9.303922    3.617647   \n",
       "std                    5.866861     4.315367    8.993027    3.095351   \n",
       "min                    0.000000     0.000000    0.000000    0.000000   \n",
       "25%                    1.000000     0.000000    2.000000    1.000000   \n",
       "50%                    5.000000     1.000000    7.000000    3.000000   \n",
       "75%                    9.000000     4.000000   14.000000    5.000000   \n",
       "max                   35.000000    30.000000   50.000000   14.000000   \n",
       "\n",
       "       NumChatSessions  \n",
       "count            306.0  \n",
       "mean               0.0  \n",
       "std                0.0  \n",
       "min                0.0  \n",
       "25%                0.0  \n",
       "50%                0.0  \n",
       "75%                0.0  \n",
       "max                0.0  "
      ]
     },
     "execution_count": 4,
     "metadata": {},
     "output_type": "execute_result"
    }
   ],
   "source": [
    "feature_list = ['NumAssignmentSubmissions','NumQuizDone','NumPosts','NumTopics','NumChatSessions']\n",
    "table_df[feature_list].describe()"
   ]
  },
  {
   "cell_type": "code",
   "execution_count": 7,
   "metadata": {},
   "outputs": [],
   "source": [
    "# add a zero row for baseline for all courses \n",
    "# Adding dummy records to force-fit 0 into the feature columns \n",
    "table_df = pd.concat([table_df,\n",
    "    pd.DataFrame({\n",
    "    'UserId' : '9999999999',\n",
    "    'OrgUnitId' : pd.unique(table_df.OrgUnitId),\n",
    "    'Organization' : 'NA',\n",
    "    'Type' : 'NA',\n",
    "    'CourseName' : 'NA',\n",
    "    'EnrollmentDate' : max(table_df.EnrollmentDate),\n",
    "    'NumAssignmentSubmissions' : 0,\n",
    "    'NumQuizDone' : 0,\n",
    "    'NumPosts' : 0,\n",
    "    'NumTopics' : 0 })]\n",
    "    )"
   ]
  },
  {
   "cell_type": "code",
   "execution_count": 8,
   "metadata": {},
   "outputs": [],
   "source": [
    "table_df['NumAssignmentSubmissions_pct'] = table_df.\\\n",
    "                                           groupby('OrgUnitId')['NumAssignmentSubmissions'].\\\n",
    "                                           rank(pct=True,method='max')\n",
    "\n",
    "table_df['NumQuizDone_pct'] = table_df.\\\n",
    "                              groupby('OrgUnitId')['NumQuizDone'].\\\n",
    "                              rank(pct=True,method='max')\n",
    "\n",
    "table_df['NumPosts_pct'] = table_df.\\\n",
    "                              groupby('OrgUnitId')['NumPosts'].\\\n",
    "                              rank(pct=True,method='max')\n",
    "\n",
    "table_df['NumTopics_pct'] = table_df.\\\n",
    "                              groupby('OrgUnitId')['NumTopics'].\\\n",
    "                              rank(pct=True,method='max')\n",
    "\n",
    "table_df['NumChatSessions_pct'] = table_df.\\\n",
    "                              groupby('OrgUnitId')['NumChatSessions'].\\\n",
    "                              rank(pct=True,method='max')"
   ]
  },
  {
   "cell_type": "code",
   "execution_count": 9,
   "metadata": {},
   "outputs": [],
   "source": [
    "# table_df.head()\n",
    "# pd.unique(table_df.OrgUnitId)\n",
    "# table_df[table_df.OrgUnitId == 1822226][['UserId','NumAssignmentSubmissions','NumAssignmentSubmissions_pct']]"
   ]
  },
  {
   "cell_type": "code",
   "execution_count": 10,
   "metadata": {},
   "outputs": [],
   "source": [
    "table_df['EngagementIndex'] =  (table_df['NumAssignmentSubmissions_pct'] +\n",
    "                              table_df['NumQuizDone_pct'] + \n",
    "                              table_df['NumPosts_pct'] + \n",
    "                              table_df['NumTopics_pct'] + \n",
    "                              table_df['NumChatSessions_pct']) / 5.0 * 100.00"
   ]
  },
  {
   "cell_type": "code",
   "execution_count": 11,
   "metadata": {},
   "outputs": [],
   "source": [
    "table_df = table_df[table_df.UserId != '9999999999']\n",
    "# datetime formatting\n",
    "table_df['EnrollmentDate'] = table_df.EnrollmentDate.dt.date"
   ]
  },
  {
   "cell_type": "code",
   "execution_count": 12,
   "metadata": {},
   "outputs": [],
   "source": [
    "table_df.loc[:,'CourseTerm'] = table_df.loc[:,'CourseName'].\\\n",
    "                         apply(lambda x : ' '.join(word for word in x.split(' ')[-3:-1]))\n",
    "\n",
    "table_df.loc[:,'CourseTitle'] = table_df.loc[:,'CourseName'].\\\n",
    "                                 apply(lambda x : ' '.join(word for word in x.split(' ')[:-5]))\n",
    "\n",
    "table_df.loc[:,'CourseSection'] = table_df.loc[:,'CourseName'].\\\n",
    "    apply(lambda x : ' '.join(word for word in x.split(' ')[-5:-3]))"
   ]
  },
  {
   "cell_type": "code",
   "execution_count": null,
   "metadata": {},
   "outputs": [],
   "source": []
  },
  {
   "cell_type": "code",
   "execution_count": 13,
   "metadata": {},
   "outputs": [],
   "source": [
    "# table_df.to_csv(\"EngagementIndexResult.csv\")\n",
    "table_df[['UserId','OrgUnitId','Organization','Type','EnrollmentDate',\n",
    "                    'EngagementIndex','CourseTerm','CourseTitle','CourseSection']].\\\n",
    "                     to_excel(\"EngagementIndexResult.xlsx\")"
   ]
  },
  {
   "cell_type": "markdown",
   "metadata": {},
   "source": [
    "#### PLots"
   ]
  },
  {
   "cell_type": "code",
   "execution_count": 216,
   "metadata": {},
   "outputs": [
    {
     "data": {
      "text/plain": [
       "<Figure size 864x432 with 0 Axes>"
      ]
     },
     "metadata": {},
     "output_type": "display_data"
    },
    {
     "data": {
      "image/png": "[encoded data removed]",
      "text/plain": [
       "<Figure size 360x360 with 1 Axes>"
      ]
     },
     "metadata": {
      "needs_background": "light"
     },
     "output_type": "display_data"
    }
   ],
   "source": [
    "plt.figure(figsize=(12,6))\n",
    "sns_plot = sns.displot(table_df['EngagementIndex'],kde=True)\n",
    "sns_plot.savefig(\"distplot.png\")"
   ]
  },
  {
   "cell_type": "code",
   "execution_count": 157,
   "metadata": {},
   "outputs": [],
   "source": [
    "# !pip install seaborn"
   ]
  },
  {
   "cell_type": "code",
   "execution_count": 203,
   "metadata": {},
   "outputs": [
    {
     "data": {
      "image/png": "[encoded data removed]",
      "text/plain": [
       "<Figure size 576x432 with 1 Axes>"
      ]
     },
     "metadata": {
      "needs_background": "light"
     },
     "output_type": "display_data"
    }
   ],
   "source": [
    "reg_data = table_df[table_df.OrgUnitId  == 1822955]\n",
    "plt.figure(figsize=(8,6))\n",
    "plt.title(\"Engagement Index vs Assignments for the course Adv. Health Assessment Lab Section\", size=12)\n",
    "poi = sns.regplot(x=reg_data['NumAssignmentSubmissions'], y=reg_data['EngagementIndex'], color=\"blue\")\n",
    "poi.figure.savefig(\"regplot_1.png\")"
   ]
  },
  {
   "cell_type": "code",
   "execution_count": 19,
   "metadata": {},
   "outputs": [
    {
     "data": {
      "image/png": "[encoded data removed]",
      "text/plain": [
       "<Figure size 576x432 with 1 Axes>"
      ]
     },
     "metadata": {
      "needs_background": "light"
     },
     "output_type": "display_data"
    }
   ],
   "source": [
    "reg_data = table_df[table_df.OrgUnitId  == 1838198]\n",
    "plt.figure(figsize=(8,6))\n",
    "plt.title(\"Engagement Index vs Assignments for the course American Government\", size=12)\n",
    "poi = sns.regplot(x=reg_data['NumQuizDone'], y=reg_data['EngagementIndex'], color=\"blue\")\n",
    "poi.figure.savefig(\"regplot_2.png\")"
   ]
  },
  {
   "cell_type": "code",
   "execution_count": 18,
   "metadata": {},
   "outputs": [
    {
     "data": {
      "image/png": "[encoded data removed]",
      "text/plain": [
       "<Figure size 576x432 with 1 Axes>"
      ]
     },
     "metadata": {
      "needs_background": "light"
     },
     "output_type": "display_data"
    }
   ],
   "source": [
    "reg_data = table_df[table_df.OrgUnitId  == 1925630]\n",
    "plt.figure(figsize=(8,6))\n",
    "plt.title(\"Engagement Index vs Assignments for the course American Government\", size=12)\n",
    "poi = sns.regplot(x=reg_data['NumQuizDone'], y=reg_data['EngagementIndex'], color=\"blue\")\n",
    "#poi.figure.savefig(\"regplot_2.png\")"
   ]
  },
  {
   "cell_type": "code",
   "execution_count": 5,
   "metadata": {},
   "outputs": [
    {
     "data": {
      "text/plain": [
       "array([1823952, 1822959, 1822503, 1822028, 1822286, 1822606, 1838174,\n",
       "       1838202, 1822226, 1823962, 1822504, 1822817, 1822250, 1925630,\n",
       "       1822955, 1924206, 1838194, 1943335, 1820877, 1925631, 1918793,\n",
       "       1838198, 1932065, 1822495, 1822487, 1844617, 1823741, 1821825,\n",
       "       1824996, 1868083], dtype=int64)"
      ]
     },
     "execution_count": 5,
     "metadata": {},
     "output_type": "execute_result"
    }
   ],
   "source": [
    "pd.unique(table_df.OrgUnitId)"
   ]
  },
  {
   "cell_type": "code",
   "execution_count": 36,
   "metadata": {},
   "outputs": [
    {
     "ename": "AttributeError",
     "evalue": "'DataFrame' object has no attribute 'savefig'",
     "output_type": "error",
     "traceback": [
      "\u001b[1;31m---------------------------------------------------------------------------\u001b[0m",
      "\u001b[1;31mAttributeError\u001b[0m                            Traceback (most recent call last)",
      "\u001b[1;32m<ipython-input-36-f5e7f33707e7>\u001b[0m in \u001b[0;36m<module>\u001b[1;34m\u001b[0m\n\u001b[0;32m      9\u001b[0m \u001b[1;31m# plt.figure(figsize=(12,10))\u001b[0m\u001b[1;33m\u001b[0m\u001b[1;33m\u001b[0m\u001b[1;33m\u001b[0m\u001b[0m\n\u001b[0;32m     10\u001b[0m \u001b[1;31m# corr.title(\"Engagement Index vs Assignments for the course American Government\", size=12)\u001b[0m\u001b[1;33m\u001b[0m\u001b[1;33m\u001b[0m\u001b[1;33m\u001b[0m\u001b[0m\n\u001b[1;32m---> 11\u001b[1;33m \u001b[0mcorr\u001b[0m\u001b[1;33m.\u001b[0m\u001b[0msavefig\u001b[0m\u001b[1;33m(\u001b[0m\u001b[1;34m'corr.png'\u001b[0m\u001b[1;33m,\u001b[0m \u001b[0mbbox_inches\u001b[0m\u001b[1;33m=\u001b[0m\u001b[1;34m'tight'\u001b[0m\u001b[1;33m,\u001b[0m \u001b[0mpad_inches\u001b[0m\u001b[1;33m=\u001b[0m\u001b[1;36m0.0\u001b[0m\u001b[1;33m)\u001b[0m\u001b[1;33m\u001b[0m\u001b[1;33m\u001b[0m\u001b[0m\n\u001b[0m",
      "\u001b[1;32mC:\\Python39\\lib\\site-packages\\pandas\\core\\generic.py\u001b[0m in \u001b[0;36m__getattr__\u001b[1;34m(self, name)\u001b[0m\n\u001b[0;32m   5137\u001b[0m             \u001b[1;32mif\u001b[0m \u001b[0mself\u001b[0m\u001b[1;33m.\u001b[0m\u001b[0m_info_axis\u001b[0m\u001b[1;33m.\u001b[0m\u001b[0m_can_hold_identifiers_and_holds_name\u001b[0m\u001b[1;33m(\u001b[0m\u001b[0mname\u001b[0m\u001b[1;33m)\u001b[0m\u001b[1;33m:\u001b[0m\u001b[1;33m\u001b[0m\u001b[1;33m\u001b[0m\u001b[0m\n\u001b[0;32m   5138\u001b[0m                 \u001b[1;32mreturn\u001b[0m \u001b[0mself\u001b[0m\u001b[1;33m[\u001b[0m\u001b[0mname\u001b[0m\u001b[1;33m]\u001b[0m\u001b[1;33m\u001b[0m\u001b[1;33m\u001b[0m\u001b[0m\n\u001b[1;32m-> 5139\u001b[1;33m             \u001b[1;32mreturn\u001b[0m \u001b[0mobject\u001b[0m\u001b[1;33m.\u001b[0m\u001b[0m__getattribute__\u001b[0m\u001b[1;33m(\u001b[0m\u001b[0mself\u001b[0m\u001b[1;33m,\u001b[0m \u001b[0mname\u001b[0m\u001b[1;33m)\u001b[0m\u001b[1;33m\u001b[0m\u001b[1;33m\u001b[0m\u001b[0m\n\u001b[0m\u001b[0;32m   5140\u001b[0m \u001b[1;33m\u001b[0m\u001b[0m\n\u001b[0;32m   5141\u001b[0m     \u001b[1;32mdef\u001b[0m \u001b[0m__setattr__\u001b[0m\u001b[1;33m(\u001b[0m\u001b[0mself\u001b[0m\u001b[1;33m,\u001b[0m \u001b[0mname\u001b[0m\u001b[1;33m:\u001b[0m \u001b[0mstr\u001b[0m\u001b[1;33m,\u001b[0m \u001b[0mvalue\u001b[0m\u001b[1;33m)\u001b[0m \u001b[1;33m->\u001b[0m \u001b[1;32mNone\u001b[0m\u001b[1;33m:\u001b[0m\u001b[1;33m\u001b[0m\u001b[1;33m\u001b[0m\u001b[0m\n",
      "\u001b[1;31mAttributeError\u001b[0m: 'DataFrame' object has no attribute 'savefig'"
     ]
    }
   ],
   "source": [
    "corr = table_df[['NumAssignmentSubmissions',\n",
    "         'NumQuizDone',\n",
    "          'NumPosts',\n",
    "          'NumTopics',\n",
    "          'NumChatSessions',\n",
    "          'EngagementIndex']].corr()\n",
    "corr = corr.fillna(0)\n",
    "corr.style.background_gradient(cmap='coolwarm')\n",
    "# plt.figure(figsize=(12,10))\n",
    "# corr.title(\"Engagement Index vs Assignments for the course American Government\", size=12)\n",
    "corr.savefig('corr.png', bbox_inches='tight', pad_inches=0.0)"
   ]
  },
  {
   "cell_type": "code",
   "execution_count": null,
   "metadata": {},
   "outputs": [],
   "source": []
  },
  {
   "cell_type": "code",
   "execution_count": null,
   "metadata": {},
   "outputs": [],
   "source": []
  },
  {
   "cell_type": "code",
   "execution_count": null,
   "metadata": {},
   "outputs": [],
   "source": []
  },
  {
   "cell_type": "code",
   "execution_count": null,
   "metadata": {},
   "outputs": [],
   "source": []
  }
 ],
 "metadata": {
  "kernelspec": {
   "display_name": "Python 3",
   "language": "python",
   "name": "python3"
  },
  "language_info": {
   "codemirror_mode": {
    "name": "ipython",
    "version": 3
   },
   "file_extension": ".py",
   "mimetype": "text/x-python",
   "name": "python",
   "nbconvert_exporter": "python",
   "pygments_lexer": "ipython3",
   "version": "3.9.0"
  }
 },
 "nbformat": 4,
 "nbformat_minor": 2
}
